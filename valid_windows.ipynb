{
 "cells": [
  {
   "cell_type": "code",
   "execution_count": 1,
   "metadata": {},
   "outputs": [
    {
     "name": "stdout",
     "output_type": "stream",
     "text": [
      "valid_clips 20 [3.5, 3.75, 4.0, 17.0, 17.206, 17.413, 17.62, 17.827, 18.034, 18.241, 18.448, 18.655, 18.861, 19.068, 19.275, 19.482, 19.689, 19.896, 20.103, 20.31]\n"
     ]
    }
   ],
   "source": [
    "import numpy as np\n",
    "\n",
    "# Input data and parameters\n",
    "arr = np.array([[10.0, 15.0], [3.0, 3.5],  [1.8, 3.0], [8.0, 10.0], [1.0,  2.0], [16.3, 17.0]])\n",
    "duration = 4\n",
    "length = 24.31\n",
    "N = 20\n",
    "step = 0.1\n",
    "\n",
    "# Sort intervals by start time (0th column)\n",
    "arr = arr[arr[:, 0].argsort()]\n",
    "\n",
    "# Merge overlapping intervals\n",
    "i = 0\n",
    "while i < len(arr) - 1:\n",
    "    if arr[i + 1, 0] <= arr[i, 1]:  # If next interval starts before current ends, merge\n",
    "        arr[i, 1] = max(arr[i, 1], arr[i + 1, 1])\n",
    "        arr = np.delete(arr, i + 1, 0)\n",
    "    else:\n",
    "        i += 1\n",
    "\n",
    "# Calculate windows between intervals\n",
    "start = 0\n",
    "windows = []\n",
    "for i in range(len(arr)):\n",
    "    windows.append([arr[i, 0] - start, start, arr[i, 0]])\n",
    "    start = arr[i, 1]\n",
    "windows.append([length - arr[-1, 1], arr[-1, 1], length])  # Final window\n",
    "\n",
    "windows = np.array(windows)\n",
    "windows = windows[windows[:, 0].argsort()]  # Sort by window size\n",
    "\n",
    "# Function to truncate floats\n",
    "def truncate_float(float_number, decimal_places):\n",
    "    multiplier = 10 ** decimal_places\n",
    "    return int(float_number * multiplier) / multiplier\n",
    "\n",
    "\n",
    "# Calculate the maximum possible clips and proportional distribution\n",
    "first = windows[1,0]\n",
    "MaxPossible = np.array([])\n",
    "total_clips = 0 \n",
    "for win in windows:\n",
    "    if win[0] >= duration:\n",
    "        max_clips = (win[0] - duration) / step + 1\n",
    "        total_clips += max_clips\n",
    "        MaxPossible.append(max_clips)\n",
    "    else:\n",
    "        MaxPossible.append(0)\n",
    "        #windows.delete(row)\n",
    "\n",
    "# Calculate proportional clips for each window\n",
    "proportional = [N * max_clip / total_clips for max_clip in MaxPossible]\n",
    "\n",
    "# Generate valid clips based on proportional distribution\n",
    "valid_clips = []\n",
    "remaining = N\n",
    "\n",
    "for idx, window in enumerate(windows): \n",
    "    if MaxPossible[idx] == 0:\n",
    "        continue\n",
    "\n",
    "    w = int(proportional[idx] + 1)\n",
    "    w = min(w, remaining)\n",
    "    remaining -= w\n",
    "\n",
    "    new_step = (window[0] - duration) / (w - 1) if w > 1 else 0\n",
    "    start = window[1]\n",
    "\n",
    "    for j in range(w):\n",
    "        valid_clips.append(truncate_float(start, 3))\n",
    "        if j < w - 1:\n",
    "            start += new_step\n",
    "        else:\n",
    "            start = window[2] - duration\n",
    "\n",
    "# Validate and print results\n",
    "assert len(valid_clips) == N\n",
    "print('valid_clips', len(valid_clips), valid_clips)\n"
   ]
  },
  {
   "cell_type": "code",
   "execution_count": null,
   "metadata": {},
   "outputs": [],
   "source": []
  }
 ],
 "metadata": {
  "kernelspec": {
   "display_name": "flow",
   "language": "python",
   "name": "python3"
  },
  "language_info": {
   "codemirror_mode": {
    "name": "ipython",
    "version": 3
   },
   "file_extension": ".py",
   "mimetype": "text/x-python",
   "name": "python",
   "nbconvert_exporter": "python",
   "pygments_lexer": "ipython3",
   "version": "3.10.8"
  }
 },
 "nbformat": 4,
 "nbformat_minor": 2
}
